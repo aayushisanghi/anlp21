{
 "cells": [
  {
   "cell_type": "markdown",
   "id": "89dd4ae7",
   "metadata": {},
   "source": [
    "Common measures of textual complexity are derived from simple counts of words, sentences and syllables.  In this homework, you'll implement two of them: type-token ratio (a measure of vocabulary richness) and the [Flesch-Kincaid Grade Level](https://en.wikipedia.org/wiki/Flesch–Kincaid_readability_tests#Flesch–Kincaid_grade_level)."
   ]
  },
  {
   "cell_type": "code",
   "execution_count": 175,
   "id": "6e71628d",
   "metadata": {},
   "outputs": [],
   "source": [
    "import nltk, re"
   ]
  },
  {
   "cell_type": "code",
   "execution_count": 176,
   "id": "7f4944f5",
   "metadata": {},
   "outputs": [
    {
     "name": "stderr",
     "output_type": "stream",
     "text": [
      "[nltk_data] Downloading package punkt to /Users/aayu/nltk_data...\n",
      "[nltk_data]   Package punkt is already up-to-date!\n"
     ]
    },
    {
     "data": {
      "text/plain": [
       "True"
      ]
     },
     "execution_count": 176,
     "metadata": {},
     "output_type": "execute_result"
    }
   ],
   "source": [
    "# If you haven't downloaded the sentence segmentation model before, do so here\n",
    "nltk.download(\"punkt\")"
   ]
  },
  {
   "cell_type": "markdown",
   "id": "c5a7820e",
   "metadata": {},
   "source": [
    "Q1: Find two different texts you'd like to compare (from any source).  For potential sources, see the [The American Presidency Project](https://www.presidency.ucsb.edu/documents/presidential-documents-archive-guidebook/annual-messages-congress-the-state-the-union) for all state of the union addresses and [Project Gutenberg](https://www.gutenberg.org) for books in the public domain.  Paste them in the `text1` and `text2` strings below.  Ensure that both texts are a minimum of 500 words."
   ]
  },
  {
   "cell_type": "code",
   "execution_count": 177,
   "id": "63adb141",
   "metadata": {},
   "outputs": [],
   "source": [
    "text1=\"\"\"The stranger came early in February, one wintry day, through a biting wind and a driving snow, the last snowfall of the year, over the down, walking from Bramblehurst railway station, and carrying a little black portmanteau in his thickly gloved hand. He was wrapped up from head to foot, and the brim of his soft felt hat hid every inch of his face but the shiny tip of his nose; the snow had piled itself against his shoulders and chest, and added a white crest to the burden he carried. He staggered into the “Coach and Horses” more dead than alive, and flung his portmanteau down. “A fire,” he cried, “in the name of human charity! A room and a fire!” He stamped and shook the snow from off himself in the bar, and followed Mrs. Hall into her guest parlour to strike his bargain. And with that much introduction, that and a couple of sovereigns flung upon the table, he took up his quarters in the inn.\n",
    "Mrs. Hall lit the fire and left him there while she went to prepare him a meal with her own hands. A guest to stop at Iping in the wintertime was an unheard-of piece of luck, let alone a guest who was no “haggler,” and she was resolved to show herself worthy of her good fortune. As soon as the bacon was well under way, and Millie, her lymphatic maid, had been brisked up a bit by a few deftly chosen expressions of contempt, she carried the cloth, plates, and glasses into the parlour and began to lay them with the utmost éclat. Although the fire was burning up briskly, she was surprised to see that her visitor still wore his hat and coat, standing with his back to her and staring out of the window at the falling snow in the yard. His gloved hands were clasped behind him, and he seemed to be lost in thought. She noticed that the melting snow that still sprinkled his shoulders dripped upon her carpet. “Can I take your hat and coat, sir?” she said, “and give them a good dry in the kitchen?”\n",
    "“No,” he said without turning.\n",
    "She was not sure she had heard him, and was about to repeat her question.\n",
    "He turned his head and looked at her over his shoulder. “I prefer to keep them on,” he said with emphasis, and she noticed that he wore big blue spectacles with sidelights, and had a bush side-whisker over his coat-collar that completely hid his cheeks and face.\n",
    "“Very well, sir,” she said. “As you like. In a bit the room will be warmer.”\n",
    "He made no answer, and had turned his face away from her again, and Mrs. Hall, feeling that her conversational advances were ill-timed, laid the rest of the table things in a quick staccato and whisked out of the room. When she returned he was still standing there, like a man of stone, his back hunched, his collar turned up, his dripping hat-brim turned down, hiding his face and ears completely. She put down the eggs and bacon with considerable emphasis, and called rather than said to him, “Your lunch is served, sir.”\n",
    "“Thank you,” he said at the same time, and did not stir until she was closing the door. Then he swung round and approached the table with a certain eager quickness.\n",
    "As she went behind the bar to the kitchen she heard a sound repeated at regular intervals. Chirk, chirk, chirk, it went, the sound of a spoon being rapidly whisked round a basin. “That girl!” she said. “There! I clean forgot it. It’s her being so long!” And while she herself finished mixing the mustard, she gave Millie a few verbal stabs for her excessive slowness. She had cooked the ham and eggs, laid the table, and done everything, while Millie (help indeed!) had only succeeded in delaying the mustard. And him a new guest and wanting to stay! Then she filled the mustard pot, and, putting it with a certain stateliness upon a gold and black tea-tray, carried it into the parlour.\n",
    "She rapped and entered promptly. As she did so her visitor moved quickly, so that she got but a glimpse of a white object disappearing behind the table. It would seem he was picking something from the floor. She rapped down the mustard pot on the table, and then she noticed the overcoat and hat had been taken off and put over a chair in front of the fire, and a pair of wet boots threatened rust to her steel fender. She went to these things resolutely. “I suppose I may have them to dry now,” she said in a voice that brooked no denial.\n",
    "“Leave the hat,” said her visitor, in a muffled voice, and turning she saw he had raised his head and was sitting and looking at her.\n",
    "For a moment she stood gaping at him, too surprised to speak.\n",
    "He held a white cloth—it was a serviette he had brought with him—over the lower part of his face, so that his mouth and jaws were completely hidden, and that was the reason of his muffled voice. But it was not that which startled Mrs. Hall. It was the fact that all his forehead above his blue glasses was covered by a white bandage, and that another covered his ears, leaving not a scrap of his face exposed excepting only his pink, peaked nose. It was bright, pink, and shiny just as it had been at first. He wore a dark-brown velvet jacket with a high, black, linen-lined collar turned up about his neck. The thick black hair, escaping as it could below and between the cross bandages, projected in curious tails and horns, giving him the strangest appearance conceivable. This muffled and bandaged head was so unlike what she had anticipated, that for a moment she was rigid.\"\"\""
   ]
  },
  {
   "cell_type": "code",
   "execution_count": 178,
   "id": "0d080408",
   "metadata": {},
   "outputs": [],
   "source": [
    "text2=\"\"\"On an exceptionally hot evening early in July a young man came out of the garret in which he lodged in S. Place and walked slowly, as though in hesitation, towards K. bridge.\n",
    "He had successfully avoided meeting his landlady on the staircase. His garret was under the roof of a high, five-storied house and was more like a cupboard than a room. The landlady who provided him with garret, dinners, and attendance, lived on the floor below, and every time he went out he was obliged to pass her kitchen, the door of which invariably stood open. And each time he passed, the young man had a sick, frightened feeling, which made him scowl and feel ashamed. He was hopelessly in debt to his landlady, and was afraid of meeting her.\n",
    "This was not because he was cowardly and abject, quite the contrary; but for some time past he had been in an overstrained irritable condition, verging on hypochondria. He had become so completely absorbed in himself, and isolated from his fellows that he dreaded meeting, not only his landlady, but anyone at all. He was crushed by poverty, but the anxieties of his position had of late ceased to weigh upon him. He had given up attending to matters of practical importance; he had lost all desire to do so. Nothing that any landlady could do had a real terror for him. But to be stopped on the stairs, to be forced to listen to her trivial, irrelevant gossip, to pestering demands for payment, threats and complaints, and to rack his brains for excuses, to prevaricate, to lie—no, rather than that, he would creep down the stairs like a cat and slip out unseen.\n",
    "This evening, however, on coming out into the street, he became acutely aware of his fears.\n",
    "“I want to attempt a thing like that and am frightened by these trifles,” he thought, with an odd smile. “Hm... yes, all is in a man’s hands and he lets it all slip from cowardice, that’s an axiom. It would be interesting to know what it is men are most afraid of. Taking a new step, uttering a new word is what they fear most.... But I am talking too much. It’s because I chatter that I do nothing. Or perhaps it is that I chatter because I do nothing. I’ve learned to chatter this last month, lying for days together in my den thinking... of Jack the Giant-killer. Why am I going there now? Am I capable of that? Is that serious? It is not serious at all. It’s simply a fantasy to amuse myself; a plaything! Yes, maybe it is a plaything.”\n",
    "The heat in the street was terrible: and the airlessness, the bustle and the plaster, scaffolding, bricks, and dust all about him, and that special Petersburg stench, so familiar to all who are unable to get out of town in summer—all worked painfully upon the young man’s already overwrought nerves. The insufferable stench from the pot-houses, which are particularly numerous in that part of the town, and the drunken men whom he met continually, although it was a working day, completed the revolting misery of the picture. An expression of the profoundest disgust gleamed for a moment in the young man’s refined face. He was, by the way, exceptionally handsome, above the average in height, slim, well-built, with beautiful dark eyes and dark brown hair. Soon he sank into deep thought, or more accurately speaking into a complete blankness of mind; he walked along not observing what was about him and not caring to observe it. From time to time, he would mutter something, from the habit of talking to himself, to which he had just confessed. At these moments he would become conscious that his ideas were sometimes in a tangle and that he was very weak; for two days he had scarcely tasted food.\n",
    "He was so badly dressed that even a man accustomed to shabbiness would have been ashamed to be seen in the street in such rags. In that quarter of the town, however, scarcely any shortcoming in dress would have created surprise. Owing to the proximity of the Hay Market, the number of establishments of bad character, the preponderance of the trading and working class population crowded in these streets and alleys in the heart of Petersburg, types so various were to be seen in the streets that no figure, however queer, would have caused surprise. But there was such accumulated bitterness and contempt in the young man’s heart, that, in spite of all the fastidiousness of youth, he minded his rags least of all in the street. It was a different matter when he met with acquaintances or with former fellow students, whom, indeed, he disliked meeting at any time. And yet when a drunken man who, for some unknown reason, was being taken somewhere in a huge waggon dragged by a heavy dray horse, suddenly shouted at him as he drove past: “Hey there, German hatter” bawling at the top of his voice and pointing at him—the young man stopped suddenly and clutched tremulously at his hat. It was a tall round hat from Zimmerman’s, but completely worn out, rusty with age, all torn and bespattered, brimless and bent on one side in a most unseemly fashion. Not shame, however, but quite another feeling akin to terror had overtaken him.\n",
    "“I knew it,” he muttered in confusion, “I thought so! That’s the worst of all! Why, a stupid thing like this, the most trivial detail might spoil the whole plan. Yes, my hat is too noticeable.... It looks absurd and that makes it noticeable.... With my rags I ought to wear a cap, any sort of old pancake, but not this grotesque thing. Nobody wears such a hat, it would be noticed a mile off, it would be remembered.... What matters is that people would remember it, and that would give them a clue. For this business one should be as little conspicuous as possible.... Trifles, trifles are what matter! Why, it’s just such trifles that always ruin everything....”\n",
    "He had not far to go; he knew indeed how many steps it was from the gate of his lodging house: exactly seven hundred and thirty. He had counted them once when he had been lost in dreams. At the time he had put no faith in those dreams and was only tantalising himself by their hideous but daring recklessness. Now, a month later, he had begun to look upon them differently, and, in spite of the monologues in which he jeered at his own impotence and indecision, he had involuntarily come to regard this “hideous” dream as an exploit to be attempted, although he still did not realise this himself. He was positively going now for a “rehearsal” of his project, and at every step his excitement grew more and more violent.\"\"\""
   ]
  },
  {
   "cell_type": "markdown",
   "id": "7020c0bd",
   "metadata": {},
   "source": [
    "Q2: Use the `nltk.word_tokenize` method to implement the type-token ratio:\n",
    "\n",
    "$$\n",
    "TTR = {\\textrm{number of distinct word types} \\over \\textrm{number of word tokens}}\n",
    "$$\n",
    "\n",
    "TTR is dependent on text length (intuitively, the longer a text is, the greater chance you have of a word type repeating), so this number is only comparable between documents of identical lengths.  Calculate this measure for the first 500 words of your two documents and report the results here. Exclude tokens that are exclusively punctuation from all counts."
   ]
  },
  {
   "cell_type": "code",
   "execution_count": 179,
   "id": "6f9bee56",
   "metadata": {},
   "outputs": [],
   "source": [
    "def type_token_ratio(text, num_words=500):\n",
    "    # your answer here\n",
    "    # get the first 500 words from raw text\n",
    "    text = text.lower()\n",
    "    tokens = text.split(' ')[0:num_words]\n",
    "    # join them back into raw text\n",
    "    text_shortened = ' '.join(tokens)\n",
    "    tokens = nltk.word_tokenize(text_shortened)\n",
    "    # regex to remove all words which are exclusively punctuation\n",
    "    punct_regex = re.compile(r'[^a-z0-9 ]+')\n",
    "    tokens = [i for i in tokens if not punct_regex.match(i)]\n",
    "    # types: unique tokens\n",
    "    types = set(tokens)\n",
    "    # final TTR\n",
    "    return len(types)/len(tokens)"
   ]
  },
  {
   "cell_type": "code",
   "execution_count": 180,
   "id": "3c5b9b98",
   "metadata": {},
   "outputs": [
    {
     "data": {
      "text/plain": [
       "0.4871287128712871"
      ]
     },
     "execution_count": 180,
     "metadata": {},
     "output_type": "execute_result"
    }
   ],
   "source": [
    "type_token_ratio(text1)"
   ]
  },
  {
   "cell_type": "code",
   "execution_count": 181,
   "id": "0d39cd52",
   "metadata": {},
   "outputs": [
    {
     "data": {
      "text/plain": [
       "0.49902152641878667"
      ]
     },
     "execution_count": 181,
     "metadata": {},
     "output_type": "execute_result"
    }
   ],
   "source": [
    "type_token_ratio(text2)"
   ]
  },
  {
   "cell_type": "markdown",
   "id": "84ec573a",
   "metadata": {},
   "source": [
    "****"
   ]
  },
  {
   "cell_type": "markdown",
   "id": "7554c8c5",
   "metadata": {},
   "source": [
    "Now we'll implement the [Flesch-Kincaid Grade Level](https://en.wikipedia.org/wiki/Flesch–Kincaid_readability_tests#Flesch–Kincaid_grade_level), which has the following formula:\n",
    "\n",
    "$$\n",
    "0.39 \\left ( \\frac{\\mbox{total words}}{\\mbox{total sentences}} \\right ) + 11.8 \\left ( \\frac{\\mbox{total syllables}}{\\mbox{total words}} \\right ) - 15.59\n",
    "$$\n",
    "\n",
    "Use `nltk.sent_tokenize` or spacy's `sents` function for counting the number of sentences, any word tokenization method we've covered for counting the number of words, and the `get_syllable_count` function below for counting the number of syllables in a word.  Exclude tokens that are exclusively punctuation from word and syllable counts."
   ]
  },
  {
   "cell_type": "markdown",
   "id": "d62b2be7",
   "metadata": {},
   "source": [
    "For calculating the syllables, we're going to use a number of resources: the [CMU pronunciation dictionary](https://github.com/cmusphinx/cmudict), which lists the ARPABET pronunciation for a list of words, along with [g2p](https://github.com/Kyubyong/g2p), a neural model trained to predict the pronunciation for words (which we can use for words not in the CMU dictionary)."
   ]
  },
  {
   "cell_type": "code",
   "execution_count": 182,
   "id": "7e404cff",
   "metadata": {},
   "outputs": [],
   "source": [
    "arpabet = nltk.corpus.cmudict.dict()"
   ]
  },
  {
   "cell_type": "code",
   "execution_count": 183,
   "id": "2c28afcf",
   "metadata": {},
   "outputs": [
    {
     "name": "stdout",
     "output_type": "stream",
     "text": [
      "Requirement already satisfied: g2p_en in /opt/anaconda3/envs/anlp/lib/python3.8/site-packages (2.1.0)\r\n",
      "Requirement already satisfied: numpy>=1.13.1 in /opt/anaconda3/envs/anlp/lib/python3.8/site-packages (from g2p_en) (1.20.3)\r\n",
      "Requirement already satisfied: distance>=0.1.3 in /opt/anaconda3/envs/anlp/lib/python3.8/site-packages (from g2p_en) (0.1.3)\r\n",
      "Requirement already satisfied: nltk>=3.2.4 in /opt/anaconda3/envs/anlp/lib/python3.8/site-packages (from g2p_en) (3.6.2)\r\n",
      "Requirement already satisfied: inflect>=0.3.1 in /opt/anaconda3/envs/anlp/lib/python3.8/site-packages (from g2p_en) (5.3.0)\r\n",
      "Requirement already satisfied: tqdm in /opt/anaconda3/envs/anlp/lib/python3.8/site-packages (from nltk>=3.2.4->g2p_en) (4.62.1)\r\n",
      "Requirement already satisfied: joblib in /opt/anaconda3/envs/anlp/lib/python3.8/site-packages (from nltk>=3.2.4->g2p_en) (1.0.1)\r\n",
      "Requirement already satisfied: regex in /opt/anaconda3/envs/anlp/lib/python3.8/site-packages (from nltk>=3.2.4->g2p_en) (2021.8.3)\r\n",
      "Requirement already satisfied: click in /opt/anaconda3/envs/anlp/lib/python3.8/site-packages (from nltk>=3.2.4->g2p_en) (7.1.2)\r\n"
     ]
    }
   ],
   "source": [
    "!pip install g2p_en"
   ]
  },
  {
   "cell_type": "code",
   "execution_count": 184,
   "id": "dd5eea9a",
   "metadata": {},
   "outputs": [],
   "source": [
    "from g2p_en import G2p\n",
    "g2p = G2p()"
   ]
  },
  {
   "cell_type": "code",
   "execution_count": 185,
   "id": "adb9196c",
   "metadata": {},
   "outputs": [],
   "source": [
    "def get_pronunciation(word):\n",
    "    if word in arpabet:\n",
    "        # pick the first pronunciation\n",
    "        return arpabet[word][0]\n",
    "\n",
    "    else:\n",
    "        return g2p(word)\n",
    "\n",
    "def get_syllable_count(word):\n",
    "    pronunciation=get_pronunciation(word)\n",
    "    sylls=0\n",
    "    for phon in pronunciation:\n",
    "        # vowels in arpabet end in digits (indicating stress)\n",
    "        if re.search(\"\\d$\", phon) is not None:\n",
    "            sylls+=1\n",
    "    return sylls"
   ]
  },
  {
   "cell_type": "code",
   "execution_count": 186,
   "id": "9b43076b",
   "metadata": {},
   "outputs": [
    {
     "data": {
      "text/plain": [
       "2"
      ]
     },
     "execution_count": 186,
     "metadata": {},
     "output_type": "execute_result"
    }
   ],
   "source": [
    "get_syllable_count(\"Bamman\")"
   ]
  },
  {
   "cell_type": "code",
   "execution_count": 187,
   "id": "6adfab7b",
   "metadata": {},
   "outputs": [
    {
     "data": {
      "text/plain": [
       "4"
      ]
     },
     "execution_count": 187,
     "metadata": {},
     "output_type": "execute_result"
    }
   ],
   "source": [
    "get_syllable_count(\"27\")"
   ]
  },
  {
   "cell_type": "markdown",
   "id": "8cc8ed59",
   "metadata": {},
   "source": [
    "Q3. Implement Flesch-Kincaid Grade Level and report its results for your two texts.  Flesch-Kincaid relies on an implicit definition of a \"word\" and a \"sentence\", and different definitions will yield different grade level estimates. (In the problem definition above, we've already ruled out punctuation as constituing stand-alone words, and other assumptions lurk with every tokenization method). State your assumptions for the definition of \"word\" you have implemented and why they are reasonable."
   ]
  },
  {
   "cell_type": "code",
   "execution_count": 188,
   "id": "d56111b8",
   "metadata": {},
   "outputs": [],
   "source": [
    "def flesch_kincaid_grade_level(text):\n",
    "    # your answer here\n",
    "    sent_count = len(nltk.sent_tokenize(text))\n",
    "    tokens = nltk.word_tokenize(text)\n",
    "    # regex to remove all words which are exclusively punctuation\n",
    "    punct_regex = re.compile(r'[^a-z0-9 ]+')\n",
    "    tokens = [i for i in tokens if not punct_regex.match(i)]\n",
    "    word_count = len(tokens)\n",
    "    # calculate Flesch-Kincaid Grade Level\n",
    "    fkg_level = 0.39*(word_count/sent_count) + 11.8*(get_syllable_count(text)/word_count) - 15.59\n",
    "    return fkg_level"
   ]
  },
  {
   "cell_type": "code",
   "execution_count": 189,
   "id": "d970aedf",
   "metadata": {},
   "outputs": [
    {
     "name": "stdout",
     "output_type": "stream",
     "text": [
      "11.264615384615386\n"
     ]
    }
   ],
   "source": [
    "# Should be 11.265\n",
    "print(flesch_kincaid_grade_level(\"The Australian platypus is seemingly a, hybrid of a mammal and reptilian creature\".lower()))"
   ]
  },
  {
   "cell_type": "code",
   "execution_count": 190,
   "id": "04718a78",
   "metadata": {},
   "outputs": [
    {
     "data": {
      "text/plain": [
       "8.050391463649806"
      ]
     },
     "execution_count": 190,
     "metadata": {},
     "output_type": "execute_result"
    }
   ],
   "source": [
    "flesch_kincaid_grade_level(text1.lower())"
   ]
  },
  {
   "cell_type": "code",
   "execution_count": 191,
   "id": "e3ee45cc",
   "metadata": {},
   "outputs": [
    {
     "data": {
      "text/plain": [
       "10.007810877564392"
      ]
     },
     "execution_count": 191,
     "metadata": {},
     "output_type": "execute_result"
    }
   ],
   "source": [
    "flesch_kincaid_grade_level(text2.lower())"
   ]
  },
  {
   "cell_type": "markdown",
   "id": "12e6db12",
   "metadata": {},
   "source": [
    "**Q3 \"word\" assumptions:**"
   ]
  },
  {
   "cell_type": "markdown",
   "id": "d448844d",
   "metadata": {},
   "source": [
    "Some assumptions being made in the definition of \"word\" are:\n",
    "\n",
    "1) The delimiter between words (what marks the end of a word) is a single space character. This is reasonable because spaces are used to differentiate between words in the English language. While this may not hold true for some other languages, it's the general rule of thumb for English.\n",
    "\n",
    "2) Hyphenated words are counted as one word, which increases the Flesch-Kincaid Grade Level value for texts which have them. This is automatically biased towards books which have lesser/no hyphenated words, and will show lower scores (hence more complexity) for books with lesser hyphens."
   ]
  },
  {
   "cell_type": "code",
   "execution_count": null,
   "id": "2561a3bb",
   "metadata": {},
   "outputs": [],
   "source": []
  }
 ],
 "metadata": {
  "kernelspec": {
   "display_name": "Python [conda env:anlp] *",
   "language": "python",
   "name": "conda-env-anlp-py"
  },
  "language_info": {
   "codemirror_mode": {
    "name": "ipython",
    "version": 3
   },
   "file_extension": ".py",
   "mimetype": "text/x-python",
   "name": "python",
   "nbconvert_exporter": "python",
   "pygments_lexer": "ipython3",
   "version": "3.8.8"
  }
 },
 "nbformat": 4,
 "nbformat_minor": 5
}
